{
 "cells": [
  {
   "cell_type": "markdown",
   "metadata": {},
   "source": [
    "# Discalimer\n",
    "Tulisan ini milik **[Piyut Dyoni](https://medium.com/@piyut.dyoni)** saya hanya membuat artikelnya kedalam Jupyter Notebook.  \n",
    "Artikel aslinya bisa dibaca [di sini](https://medium.com/@piyut.dyoni/machine-learning-buat-yang-ngerasa-bodo-e37bc5b26d9d)"
   ]
  },
  {
   "cell_type": "markdown",
   "metadata": {},
   "source": [
    "## Machine Learning Buat yang Ngerasa Bodo (kayak gue)\n",
    "\n",
    "### Disclaimer! \n",
    "> Yang nulis ini bukan dosen, bukan programmer expert, bukan. Karena penulis ngerasa bodo, maka penulis cuma mau share barangkali ada orang-orang yang sama-sama ngerasa bodo dan semoga ini bisa membantu. Kalo ada penjelasan yang salah silahkan komen supaya penulis lebih belajar lagi.\n",
    "\n",
    "Halo! Hari ini bakal aku praktekin gimana kerja machine learning pake famous dataset yang udah available dari sklearn. Tutorial ini berasal dari channelnya [Data School](https://www.youtube.com/channel/UCnVzApLJE2ljPZSeQylSEyg). Ini recommended banget karena tutornya sabar banget. Yaa buat saya yang tipe auditori dan lebih nyantol lewat sesuatu yang ada suara-suaranya, maka tutorial youtube lah yang paling membantu. Tutorial di video itu bahasa Inggris, so kenapa tutorial ini Bahasa Indonesia? soalnya tutorial Bahasa Inggris udah banyak bos! jadi buat ngebantu yang punya kendala pemahaman di bahasa Inggris, aku buat aja yang kaya gini dengan penjelasan dan bahasa yang sangat sederhana. Asumsiku sih ini pelajaran udah ribet, kalo dijelasin dengan bahasa yang ribet kan mikirnya dua kali hehe.. Ok deh Cekidot! ^^\n",
    "\n",
    "\n",
    "## Sejenak soal Machine Learning\n",
    "\n",
    "Machine Learning itu intinya berkaitan dengan automasi. Gimana caranya komputer belajar dari contoh-contoh yang kita berikan, terus memprediksi sesuatu yang sesuai dengan contoh-contoh tadi.\n",
    "\n",
    "Jadi ada yang namanya Supervised dan Unsupervised Learning. Supervised itu artinya udah termanage dengan baik. Maksudnya misal kamu punya data yang fitur dan labelnya udah jelas. Misal kalo ciri-ciri orang sawo matang, rambut hitam, itu berarti udah jelas orang Asia Tenggara.\n",
    "\n",
    "Kalo Unsupervised learning itu targetnya atau labelnya belom jelas. Metode yang dipakai biasanya Clustering. Jadi kita cuma ngelompokin data yang punya keterkaitan satu sama lain, tanpa tahu mereka sebenernya bener-bener satu label atau enggak.\n",
    "\n",
    "\n",
    "## Mempersiapkan Dataset\n",
    "\n",
    "Di tutorial ini, kita bakal pake dataset yang udah populer banget, namanya [Iris](https://archive.ics.uci.edu/ml/datasets/Iris). Ini udah tersedia by default dari [Sklearn](http://scikit-learn.org/stable/auto_examples/datasets/plot_iris_dataset.html) nya. Dataset ini isinya tentang 3 macam spesies bunga beserta ukuran petal dan sepal. Ini nih buat yang belum tahu sepal dan petal :\n",
    "\n",
    "![Petal-sepal](https://upload.wikimedia.org/wikipedia/commons/thumb/7/78/Petal-sepal.jpg/220px-Petal-sepal.jpg)\n",
    "\n",
    "Nah, data ini adalah csv, yang kalo dijadikan tabel, tiap barisnya menunjukan berbagai jenis spesies bunga yang berbeda, sedangkan kolomnya menunjukan fitur data yaitu : `sepal length`, `sepal width`, `petal length`, dan `petal width` secara berurutan (BTW ada 4 kolom ya).\n",
    "\n",
    "Jenis bunganya ada 3: `setosa`, `versicolor` dan `virginica`. Ada 50 sampel data tiap jenis bunga nya. jadi kalo di total ada 50x3 sampel data = 150 sampel data.\n",
    "\n",
    "Oke deh langsung aja, cekidot!\n",
    "\n"
   ]
  },
  {
   "cell_type": "code",
   "execution_count": 4,
   "metadata": {},
   "outputs": [
    {
     "data": {
      "text/plain": [
       "(150, 4)"
      ]
     },
     "execution_count": 4,
     "metadata": {},
     "output_type": "execute_result"
    }
   ],
   "source": [
    "# disini aku bakal import datanya dari sklearn\n",
    "from sklearn.datasets import load_iris\n",
    "\n",
    "iris=load_iris()   #datanya di load dulu!\n",
    "x=iris.data    #fitur data, di print aja kalo mau lihat\n",
    "y=iris.target   #label data, di print aja kalo mau lihat\n",
    "\n",
    "iris.target_names # buat tahu arti dari iris.target sebenarnya.\n",
    "iris.feature_names # buat tahu arti dari fitur2 di iris.data\n",
    "type(iris.data) # kalo mau tahu tipedata nya iris data\n",
    "iris.data.shape # kalo mau tahu shape atau bentuk metriks dari iris data\n"
   ]
  },
  {
   "cell_type": "markdown",
   "metadata": {},
   "source": [
    "Nah yang barusan kita misahin antara `fitur` dan `label`nya di `x` dan `y`.   \n",
    "Kalo di Machine Learning, **Fitur itu kaya ciri-cirinya** dan **Label tuh ya namanya.**   \n",
    "Misal, Bunga spesies Sentosa punya ukuran panjang petal 3.2, lebar petal 2.3, panjang sepal 2.1 dan lebar sepal 1.2.   \n",
    "Nah kalo di ML:\n",
    "- **fiturnya adalah kesemua ukuran petal dan sepal.**\n",
    "- **Labelnya adalah spesies Sentosa.**\n",
    "\n",
    "\n",
    "Di SKlearn, ada beberapa syarat yang harus dipenuhi:   \n",
    "1. **Fitur dan label harus dipisah jadi objek yang berbeda**, kaya yang aku praktekin diatas. Kenapa? biar kaga nyampur pas di training ntar. Singkatnya sih begituh.\n",
    "2. **Fitur dan label harus numeric**, jadi kalo misal label diatas itu nama-nama bunga, kita ganti jadi nomor, misal `sentosa=0`, `versicolor=1`, `virginica=2`.\n",
    "3. **Fitur dan label harus dalam format Numpy array.** (Why? aku belom bisa jelasin lebih detail sih, tapi lo bisa riset sendiri atau ini bisa jadi PR gue ngejelasin di kesempatan berikutnya.)\n",
    "4. **Fitur dan label harus dalam bentuk metriks yang spesifik.**\n",
    "\n",
    "Nah setelah ini kita bakal training data2 tadi dengan metode klasifikasi **KNN (K-Nearest Neighbor).**\n"
   ]
  },
  {
   "cell_type": "markdown",
   "metadata": {},
   "source": [
    "## Sejenak Soal KNN\n",
    "\n",
    "Kenapa kita pake metode klasifikasi di tutorial ini?\n",
    "\n",
    "1. Karena data yang kita punya adalah Supervised\n",
    "2. Karena data yang kita punya nggak continuous. Maksudnya?\n",
    "\n",
    "Jadi gini.. kalo di `Supervised` itu **bisa di-solve pake dua Estimator atau metode**, **Classification** atau **Regression.** Tergantung output yang kamu inginkan.\n",
    "\n",
    "**Classification itu buat yang outputnya diskrit atau pasti.** 1 ya 1, kucing ya kucing. Bukan mirip kucing atau mendekati 1.   \n",
    "Contoh, kalo di dataset ini, output yang kita inginkan apakah input kita termasuk spesies sentosa, versicolor atau virginica. Sentosa ya sentosa, bukan mirip sentosa.\n",
    "\n",
    "**Regression itu buat yang outputnya continous**, misalnya kita nebak harga Nasi Goreng 8500 rupiah. Padahal harga aslinya 9000. Ini masih bisa di toleransi sama Regression dan boleh dibilang prediksi yang bagus.\n",
    "\n",
    "KNN adalah salah satu metode klasifikasi yang sangat amat simple dan mudah. Penjelasan yang bagus dan berbahasa Indonesia bisa dilihat [disini](http://depandienda.it.student.pens.ac.id/file/knn_references.pdf) (atau didalam folder **`docs/knn_references.pdf`**.)\n",
    "\n",
    "Jadi intinya **KNN itu berbasiskan tetangga terdekat.** Akurasi KNN biasanya tergantung `K`-nya. Maksudnya, jumlah tetangga yang terdekat. Misal, `K=4` untuk klasifikasi `‘a‘` apakah termasuk bebek atau sapi. Disini kita lihat 4 posisi tetangga terdekat dari `‘a’`. Eh ternyata ada 3 sapi yang lebih deket jaraknya sama `‘a’` sedangkan cuma 1 bebek yang deket sama `‘a’`. Disini bisa disimpulkan kalo `‘a’` adalah sapi.\n"
   ]
  },
  {
   "cell_type": "code",
   "execution_count": 5,
   "metadata": {},
   "outputs": [
    {
     "data": {
      "text/plain": [
       "array([2])"
      ]
     },
     "execution_count": 5,
     "metadata": {},
     "output_type": "execute_result"
    }
   ],
   "source": [
    "from sklearn.neighbors import KNeighborsClassifier\n",
    "import numpy as np\n",
    "\n",
    "knn=KNeighborsClassifier(n_neighbors=1) #define K=1\n",
    "\n",
    "knn.fit(x,y)\n",
    "a=np.array([[1.0,2.7,3.6,4.2]])\n",
    "knn.predict(a)\n"
   ]
  },
  {
   "cell_type": "markdown",
   "metadata": {},
   "source": [
    "\n",
    "Nah disini aku bakal jelasin sedikit soal OOP (Object Oriented Python). Jadi ketika kita ngimpor class `KNeighborsClassifier` dari library [Sklearn](https://scikit-learn.org) ada beberapa atribut disana, yaitu parameter-parameter penting buat KNN, kaya `n_neighbors` yang menentukan jumlah `K` di `KNN.` Jadi pas kita define `knn=KNeighborsClassifier(n_neighbors=1)`, kita sebenernya kaya manggil class `KNeighborsClassifier` tapi dengan nama `knn`. Ini namanya `instantiate` the `instance`. Kamu bisa baca2 lagi deh soal OOP.\n",
    "\n",
    "Nah terus kalo kita `print(knn)` nya bakal ketahuan tuh parameter2 asli dari si class `KNeighborsClassifier`, yang mana sebenernya gapapa kalo kita ga panggil pas inisiasi instance `knn`, cuman kalo ga dipanggil atau ga di set sendiri, ya bakal ke-`set` sendiri secara default.\n",
    "\n",
    "Next, apa yang terjadi di `knn.fit(x,y)`?   \n",
    "well itu kamu perlu tahu matematikanya KNN. Yang kita tau di Sklearn kita udah terima jadi. Jadi pas kita code `knn.fit(x,y)`, si KNN bakal belajar dari fitur dan label2 yang ada.   \n",
    "Sehingga, pas kita masukin data baru, yang kita define sebagai `a` diatas ke `knn.predict(a)`, si KNN bakal otomatis ngasih tau kira2 `a` itu masuk klasifikasi label yang mana. `0`, `1` atau `2`. Nah jawabannya itu `array([2])` artinya label 2, which is spesies virginica.\n"
   ]
  },
  {
   "cell_type": "markdown",
   "metadata": {},
   "source": [
    "## Partisi Data\n",
    "\n",
    "Data yang kita punya kudu dipartisi atau dibagi-bagi jadi `train data` dan `test data`. Biasanya ukurannya `8:2` buat train vs test datanya. Di tutorial ini kita bakal tau 2 jenis pembagian data yaitu:\n",
    "\n",
    "1. Train Test Split\n",
    "2. K-fold\n"
   ]
  },
  {
   "cell_type": "markdown",
   "metadata": {},
   "source": [
    "## Train Test Data\n",
    "\n",
    "Yang akan kita lakukan adalah ngebagi kesemua 150 data jadi 2 bagian, data training dan data testing. Perbandingannya bakal otomatis `80:20` persen. Well sebenernya ga pas-pas banget sih. tapi ya sekitaran itu. Jadi bakal ada `x` buat `training` dan `testing`, begitu juga dengan `y` bakal ada y buat training dan testing. **BTW testing itu digunain buat prediksi.**\n"
   ]
  },
  {
   "cell_type": "code",
   "execution_count": 6,
   "metadata": {},
   "outputs": [
    {
     "name": "stdout",
     "output_type": "stream",
     "text": [
      "(112, 4)\n",
      "(38, 4)\n",
      "[1 2 2 0 2 1 0 2 0 1 1 1 2 2 0 0 2 2 0 0 1 2 0 2 1 2 1 1 1 2 0 1 1 0 1 0 0\n",
      " 2]\n",
      "[1 2 2 0 2 1 0 1 0 1 1 2 2 2 0 0 2 2 0 0 1 2 0 1 1 2 1 1 1 2 0 1 1 0 1 0 0\n",
      " 2]\n",
      "0.9210526315789473\n"
     ]
    }
   ],
   "source": [
    "from sklearn.model_selection import train_test_split\n",
    "from sklearn import metrics\n",
    "\n",
    "x_train, x_test, y_train, y_test = train_test_split(x,y,random_state=5)\n",
    "\n",
    "print(x_train.shape) #buat tau bentuknya x_train (112 baris dan 4 kolom)\n",
    "print(x_test.shape)  #buat tau bentuknya x_test (38 baris dan 4 kolom)\n",
    "\n",
    "knn.fit(x_train, y_train)\n",
    "y_pred = knn.predict(x_test)\n",
    "print(y_pred)  #hasil prediksi \n",
    "print(y_test)  #jawaban yang sebenarnya\n",
    "\n",
    "print(metrics.accuracy_score(y_test, y_pred))  #score prediksi\n"
   ]
  },
  {
   "cell_type": "markdown",
   "metadata": {},
   "source": [
    "\n",
    "Jadi `x_train` ada **112 data** (80-an%) dan `x_test` ada **38 data** (20-an%). \n",
    "Terus kita mulai training `x_train` dan `y_train`. terus `x_test` nya di prediksi dan dimasukan ke variabel `y_pred` yang bakal jadi `array` yang berisi hasil klasifikasi dari ke-38 data dari `x_test`.\n",
    "\n",
    "Finally, kita lihat akurasi dari prediksi tadi. Pas ini kita bandingin `y_test` dan `y_pred`, karena `y_test` itu adalah hasil yang seharusya. jadi akurasi disini ngitung sejauh mana sih si `y_pred` ini memenuhi jawaban yang sesungguhnya, yaitu `y_test`?\n"
   ]
  },
  {
   "cell_type": "markdown",
   "metadata": {},
   "source": [
    "## K-Fold Cross Validation\n",
    "\n",
    "K-Fold adalah salah satu metode Cross Validation yang populer dengan melipat data sebanyak K dan mengulangi (men-iterasi) experimennya sebanyak K juga.\n",
    "\n",
    "Misal nih, data kita ada 150. Ibarat kita pake `K=5`, berarti **kita bagi 150 data menjadi 5 lipatan**, isinya **masing-masing 30 data**. Eits, jangan lupa, kita perlu menentukan mana yang **training data** dan mana yang **test data**. Karena perbandingannya `80:20`, berarti **120 data adalah training data** dan **30 sisanya adalah test data**. Berdasarkan ke-5 lipatan tadi, berarti bakal ada **4 lipatan** (kita ganti aja ya nyebutnya jadi **partisi** ajah) x **30 data** = **120 training data**. Dan sisanya ada **1 partisi test data berisi 30 data.**\n",
    "\n",
    "Kemudian, experimen menggunakan data yang udah di partisi-partisi bakal **diulang 5 kali** (`K=5`). **Tapi posisi partisi Test data berbeda ditiap iterasinya.** Misal di iterasi pertama Test nya di posisi partisi awal, terus iterasi partisi kedua Test-nya di posisi kedua, dan seterusnya, **pokonya gaboleh sama**. Berikut nih gambarannya biar lebih _ngeh_.\n",
    "\n",
    "![K-Fold iteration](../static/images/k-fold-iteration.png)\n"
   ]
  },
  {
   "cell_type": "code",
   "execution_count": 7,
   "metadata": {},
   "outputs": [
    {
     "name": "stdout",
     "output_type": "stream",
     "text": [
      "KFold(n_splits=5, random_state=None, shuffle=False)\n",
      "('Fold: ', 1)\n",
      "('TRAIN: ', array([ 30,  31,  32,  33,  34,  35,  36,  37,  38,  39,  40,  41,  42,\n",
      "        43,  44,  45,  46,  47,  48,  49,  50,  51,  52,  53,  54,  55,\n",
      "        56,  57,  58,  59,  60,  61,  62,  63,  64,  65,  66,  67,  68,\n",
      "        69,  70,  71,  72,  73,  74,  75,  76,  77,  78,  79,  80,  81,\n",
      "        82,  83,  84,  85,  86,  87,  88,  89,  90,  91,  92,  93,  94,\n",
      "        95,  96,  97,  98,  99, 100, 101, 102, 103, 104, 105, 106, 107,\n",
      "       108, 109, 110, 111, 112, 113, 114, 115, 116, 117, 118, 119, 120,\n",
      "       121, 122, 123, 124, 125, 126, 127, 128, 129, 130, 131, 132, 133,\n",
      "       134, 135, 136, 137, 138, 139, 140, 141, 142, 143, 144, 145, 146,\n",
      "       147, 148, 149]), 'TEST: ', array([ 0,  1,  2,  3,  4,  5,  6,  7,  8,  9, 10, 11, 12, 13, 14, 15, 16,\n",
      "       17, 18, 19, 20, 21, 22, 23, 24, 25, 26, 27, 28, 29]))\n",
      "('Fold: ', 2)\n",
      "('TRAIN: ', array([  0,   1,   2,   3,   4,   5,   6,   7,   8,   9,  10,  11,  12,\n",
      "        13,  14,  15,  16,  17,  18,  19,  20,  21,  22,  23,  24,  25,\n",
      "        26,  27,  28,  29,  60,  61,  62,  63,  64,  65,  66,  67,  68,\n",
      "        69,  70,  71,  72,  73,  74,  75,  76,  77,  78,  79,  80,  81,\n",
      "        82,  83,  84,  85,  86,  87,  88,  89,  90,  91,  92,  93,  94,\n",
      "        95,  96,  97,  98,  99, 100, 101, 102, 103, 104, 105, 106, 107,\n",
      "       108, 109, 110, 111, 112, 113, 114, 115, 116, 117, 118, 119, 120,\n",
      "       121, 122, 123, 124, 125, 126, 127, 128, 129, 130, 131, 132, 133,\n",
      "       134, 135, 136, 137, 138, 139, 140, 141, 142, 143, 144, 145, 146,\n",
      "       147, 148, 149]), 'TEST: ', array([30, 31, 32, 33, 34, 35, 36, 37, 38, 39, 40, 41, 42, 43, 44, 45, 46,\n",
      "       47, 48, 49, 50, 51, 52, 53, 54, 55, 56, 57, 58, 59]))\n",
      "('Fold: ', 3)\n",
      "('TRAIN: ', array([  0,   1,   2,   3,   4,   5,   6,   7,   8,   9,  10,  11,  12,\n",
      "        13,  14,  15,  16,  17,  18,  19,  20,  21,  22,  23,  24,  25,\n",
      "        26,  27,  28,  29,  30,  31,  32,  33,  34,  35,  36,  37,  38,\n",
      "        39,  40,  41,  42,  43,  44,  45,  46,  47,  48,  49,  50,  51,\n",
      "        52,  53,  54,  55,  56,  57,  58,  59,  90,  91,  92,  93,  94,\n",
      "        95,  96,  97,  98,  99, 100, 101, 102, 103, 104, 105, 106, 107,\n",
      "       108, 109, 110, 111, 112, 113, 114, 115, 116, 117, 118, 119, 120,\n",
      "       121, 122, 123, 124, 125, 126, 127, 128, 129, 130, 131, 132, 133,\n",
      "       134, 135, 136, 137, 138, 139, 140, 141, 142, 143, 144, 145, 146,\n",
      "       147, 148, 149]), 'TEST: ', array([60, 61, 62, 63, 64, 65, 66, 67, 68, 69, 70, 71, 72, 73, 74, 75, 76,\n",
      "       77, 78, 79, 80, 81, 82, 83, 84, 85, 86, 87, 88, 89]))\n",
      "('Fold: ', 4)\n",
      "('TRAIN: ', array([  0,   1,   2,   3,   4,   5,   6,   7,   8,   9,  10,  11,  12,\n",
      "        13,  14,  15,  16,  17,  18,  19,  20,  21,  22,  23,  24,  25,\n",
      "        26,  27,  28,  29,  30,  31,  32,  33,  34,  35,  36,  37,  38,\n",
      "        39,  40,  41,  42,  43,  44,  45,  46,  47,  48,  49,  50,  51,\n",
      "        52,  53,  54,  55,  56,  57,  58,  59,  60,  61,  62,  63,  64,\n",
      "        65,  66,  67,  68,  69,  70,  71,  72,  73,  74,  75,  76,  77,\n",
      "        78,  79,  80,  81,  82,  83,  84,  85,  86,  87,  88,  89, 120,\n",
      "       121, 122, 123, 124, 125, 126, 127, 128, 129, 130, 131, 132, 133,\n",
      "       134, 135, 136, 137, 138, 139, 140, 141, 142, 143, 144, 145, 146,\n",
      "       147, 148, 149]), 'TEST: ', array([ 90,  91,  92,  93,  94,  95,  96,  97,  98,  99, 100, 101, 102,\n",
      "       103, 104, 105, 106, 107, 108, 109, 110, 111, 112, 113, 114, 115,\n",
      "       116, 117, 118, 119]))\n",
      "('Fold: ', 5)\n",
      "('TRAIN: ', array([  0,   1,   2,   3,   4,   5,   6,   7,   8,   9,  10,  11,  12,\n",
      "        13,  14,  15,  16,  17,  18,  19,  20,  21,  22,  23,  24,  25,\n",
      "        26,  27,  28,  29,  30,  31,  32,  33,  34,  35,  36,  37,  38,\n",
      "        39,  40,  41,  42,  43,  44,  45,  46,  47,  48,  49,  50,  51,\n",
      "        52,  53,  54,  55,  56,  57,  58,  59,  60,  61,  62,  63,  64,\n",
      "        65,  66,  67,  68,  69,  70,  71,  72,  73,  74,  75,  76,  77,\n",
      "        78,  79,  80,  81,  82,  83,  84,  85,  86,  87,  88,  89,  90,\n",
      "        91,  92,  93,  94,  95,  96,  97,  98,  99, 100, 101, 102, 103,\n",
      "       104, 105, 106, 107, 108, 109, 110, 111, 112, 113, 114, 115, 116,\n",
      "       117, 118, 119]), 'TEST: ', array([120, 121, 122, 123, 124, 125, 126, 127, 128, 129, 130, 131, 132,\n",
      "       133, 134, 135, 136, 137, 138, 139, 140, 141, 142, 143, 144, 145,\n",
      "       146, 147, 148, 149]))\n",
      "('shape x_train: ', (120, 4))\n",
      "('shape x_test: ', (30, 4))\n"
     ]
    }
   ],
   "source": [
    "from sklearn.model_selection import KFold\n",
    "\n",
    "kf=KFold(n_splits=5, shuffle=False)\n",
    "print(kf)  #buat tau Kfold dan parameter defaultnya\n",
    "\n",
    "i=1        #ini gapenting, cuma buat nandain fold nya.\n",
    "for train_index, test_index in kf.split(x):\n",
    "    print(\"Fold: \", i)\n",
    "    print(\"TRAIN: \", train_index, \"TEST: \", test_index)\n",
    "    x_train=x[train_index]\n",
    "    x_test=x[test_index]\n",
    "    y_train=y[train_index]\n",
    "    y_test=y[test_index]\n",
    "    i+=1\n",
    "\n",
    "print(\"shape x_train: \", x_train.shape)\n",
    "print(\"shape x_test: \", x_test.shape)"
   ]
  },
  {
   "cell_type": "markdown",
   "metadata": {},
   "source": [
    "Naah jadi teman2, apakah yang terjadi disini??   \n",
    "Jadi inget, kita punya **150 data** dan bakal **dibagi 2**, **train** dan **test**. Jadi kita bayangin 1 fold dulu deh, Fold yang paling pertama. Disana ada **120 train data** dan **30 test data**. Terus kalo kamu run code diatas, yang di print disitu bakal **indeks datanya**. Inget, indeks doang ya.    \n",
    "Jadi bayangin aja misal di fold pertama itu ada angka 30. Artinya `x[30]` (`x` indeks ke 30) yang berisi `4 kolom data petal dan sepal`. begitu deh seterusnya.\n",
    "\n",
    "Kenapa ini harus dilakukan? supaya proses training nya lebih akurat sehingga prediksinya nanti lebih mantap.\n"
   ]
  },
  {
   "cell_type": "markdown",
   "metadata": {},
   "source": [
    "## Cross Validation"
   ]
  },
  {
   "cell_type": "code",
   "execution_count": 8,
   "metadata": {},
   "outputs": [
    {
     "name": "stdout",
     "output_type": "stream",
     "text": [
      "[1.         0.93333333 1.         1.         0.86666667 0.93333333\n",
      " 0.93333333 1.         1.         1.        ]\n",
      "0.9666666666666668\n"
     ]
    }
   ],
   "source": [
    "from sklearn.model_selection import cross_val_score\n",
    "\n",
    "knn= KNeighborsClassifier(n_neighbors=5)\n",
    "score= cross_val_score(knn, x, y, cv=10, scoring='accuracy') \n",
    "\n",
    "print(score)        \n",
    "print(score.mean())\n"
   ]
  },
  {
   "cell_type": "markdown",
   "metadata": {},
   "source": [
    "Disini kita coba implementasi `cross_validation` yang sesungguhnya. ada 5 parameter di `cross_val_score`. lo bisa liat lebih detail di [dokumentasinya sklearn](https://scikit-learn.org/stable/modules/generated/sklearn.model_selection.cross_val_score.html#sklearn.model_selection.cross_val_score). Yang jelas `'cv'=cross` validation alias jumlah fold nya. \n",
    "\n",
    "Ketika score di print bakal ketauan akurasi tiap iterasi. Kalo kita rata-rata-in, maka scorenya **96%**. Sebenernya yang kita code disini lebih praktis dari partisi-partisian tadi. I mean, **`cross_val_score` udah nyedian fungsi partisian sendiri** jadi kita gausah pusing kudu ngebagi-bagi data.\n"
   ]
  },
  {
   "cell_type": "markdown",
   "metadata": {},
   "source": [
    "## Tuning Parameter (Hyperparameter)\n"
   ]
  },
  {
   "cell_type": "code",
   "execution_count": 9,
   "metadata": {},
   "outputs": [
    {
     "name": "stdout",
     "output_type": "stream",
     "text": [
      "[0.96, 0.9533333333333334, 0.9666666666666666, 0.9666666666666666, 0.9666666666666668, 0.9666666666666668, 0.9666666666666668, 0.9666666666666668, 0.9733333333333334, 0.9666666666666668, 0.9666666666666668, 0.9733333333333334, 0.9800000000000001, 0.9733333333333334, 0.9733333333333334, 0.9733333333333334, 0.9733333333333334, 0.9800000000000001, 0.9733333333333334, 0.9800000000000001, 0.9666666666666666, 0.9666666666666666, 0.9733333333333334, 0.96, 0.9666666666666666, 0.96, 0.9666666666666666, 0.9533333333333334, 0.9533333333333334, 0.9533333333333334]\n"
     ]
    }
   ],
   "source": [
    "k_range = range(1,31)  #1-30\n",
    "k_score = []\n",
    "\n",
    "for k in k_range:\n",
    "    knn=KNeighborsClassifier(n_neighbors=k)\n",
    "    score= cross_val_score(knn, x, y, cv=10, scoring='accuracy')\n",
    "    k_score.append(score.mean())\n",
    "\n",
    "print(k_score)\n"
   ]
  },
  {
   "cell_type": "markdown",
   "metadata": {},
   "source": [
    "Kalo ngomongin klasifikasi itu bawaannya seberapa akurat sih klasifikasi data kita?   \n",
    "nah di KNN ni punya **beberapa parameter** yang menentukan **tinggi rendahnya akurasi klasifikasi** kita.   \n",
    "Yaitu jumlah `K` pada `KNN`. Kita harus nyobain nih kira2 `K=berapa` sih yang menghasilkan akurasi paling tinggi?   \n",
    "Proses kaya gini nih, nyari parameter yang akurasinya tinggi, namanya **[Tuning Parameter](https://en.wikipedia.org/wiki/Hyperparameter_optimization)** atau biasanya dibilang juga **Finding Hyperparameter**.\n",
    "\n",
    "Disini kita coba `1–30 K`. Ntar bakal keliatan `K` mana yang akurasinya paling jitu.\n",
    "Semua score pada `K` yang berbeda2 disimpan di variable `k_score`. Nah kalo kamu run, hasilnya `array` yang banyak itu adalah ke `30 score` dari `K 1–30`.\n",
    "\n",
    "Ribet ya ngeliatnya? jadi mending kita plot aja itu scorenya.\n"
   ]
  },
  {
   "cell_type": "markdown",
   "metadata": {},
   "source": [
    "## Plotting Data"
   ]
  },
  {
   "cell_type": "code",
   "execution_count": 10,
   "metadata": {
    "scrolled": true
   },
   "outputs": [
    {
     "data": {
      "image/png": "[encoded data removed]",
      "text/plain": [
       "<Figure size 432x288 with 1 Axes>"
      ]
     },
     "metadata": {
      "needs_background": "light"
     },
     "output_type": "display_data"
    }
   ],
   "source": [
    "import matplotlib.pyplot as plt\n",
    "\n",
    "plt.plot(k_range, k_score)\n",
    "plt.xlabel('Nomor K')\n",
    "plt.ylabel('score K')\n",
    "plt.show()\n"
   ]
  },
  {
   "cell_type": "markdown",
   "metadata": {},
   "source": [
    "Ada dua cara yang gue tau buat nge-**plot gambar**. Pake [Matplotlib](https://matplotlib.org) atau [Plotly](https://plot.ly). Yang pertama ini [matplotlib](https://matplotlib.org). Tapi gue personally lebih suka plotly sih. soalnya lebih jelas gt dan cantik hehe. ya walaupun lebih ribet dikit sih code nya. Sayang disini aku cuma bisa upload png nya. Kalo kamu coba sendiri, kalo kamu hover ke diagramnya, detailnya bakal keliatan gitu jadi lebih akurat. Kamu bisa baca-baca tentang plotly [disini](https://plot.ly).\n"
   ]
  },
  {
   "cell_type": "code",
   "execution_count": 12,
   "metadata": {
    "scrolled": true
   },
   "outputs": [
    {
     "data": {
      "text/html": [
       "<iframe id=\"igraph\" scrolling=\"no\" style=\"border:none;\" seamless=\"seamless\" src=\"https://plot.ly/~piyutdyoni/2.embed\" height=\"525px\" width=\"100%\"></iframe>"
      ],
      "text/plain": [
       "<plotly.tools.PlotlyDisplay object>"
      ]
     },
     "execution_count": 12,
     "metadata": {},
     "output_type": "execute_result"
    }
   ],
   "source": [
    "import plotly.plotly as py\n",
    "import plotly.graph_objs as go\n",
    "import plotly.tools as tls\n",
    "\n",
    "tls.set_credentials_file(username='piyutdyoni', api_key='0fv0PaGxGfWzT72e6S7m')\n",
    "trace1 = go.Scatter(\n",
    "                    x=k_range, y=k_score, # Data\n",
    "                    mode='lines', name='K of KNN' # Additional options\n",
    "                   )\n",
    "\n",
    "layout = go.Layout(title='Score of K in KNN',\n",
    "                   plot_bgcolor='white')\n",
    "\n",
    "fig = go.Figure(data=[trace1], layout=layout)\n",
    "\n",
    "# Plot data in the notebook\n",
    "py.iplot(fig, filename='score of K in KNN')\n"
   ]
  },
  {
   "cell_type": "markdown",
   "metadata": {},
   "source": [
    "Jadi kedua linechart ini menggambarkan kalo `K` yang menghasilkan `score tertinggi` adalah `13`, `18`, dan `20`. Tapi karena **batas tertinggi** ada di `20`, soalnya abis itu **scorenya cenderung turun**, maka **kita ambil pinalty bahwa 20 adalah K** yang paling mentok dan menghasilkan score tinggi. Soo… mari kita buktikan apakah `20` adalah jawaban yang benar.\n"
   ]
  },
  {
   "cell_type": "code",
   "execution_count": 13,
   "metadata": {},
   "outputs": [
    {
     "name": "stdout",
     "output_type": "stream",
     "text": [
      "0.9800000000000001\n"
     ]
    }
   ],
   "source": [
    "knn=KNeighborsClassifier(n_neighbors=20)\n",
    "score=cross_val_score(knn, x, y, cv=10, scoring='accuracy').mean()\n",
    "\n",
    "print(score) #well, hasilnya 98% ^^\n"
   ]
  },
  {
   "cell_type": "markdown",
   "metadata": {},
   "source": [
    "Naah sekarang at least kamu ga ngerasa bodo-bodo amat laah.. kita abis mempraktekan Machine Learning. Gue personally percaya semua orang ga ada yang bodo, you just need to find out what are you good at.\n",
    "\n",
    "Thank You! ^^"
   ]
  }
 ],
 "metadata": {
  "kernelspec": {
   "display_name": "Python 2",
   "language": "python",
   "name": "python2"
  },
  "language_info": {
   "codemirror_mode": {
    "name": "ipython",
    "version": 2
   },
   "file_extension": ".py",
   "mimetype": "text/x-python",
   "name": "python",
   "nbconvert_exporter": "python",
   "pygments_lexer": "ipython2",
   "version": "2.7.12"
  }
 },
 "nbformat": 4,
 "nbformat_minor": 2
}
